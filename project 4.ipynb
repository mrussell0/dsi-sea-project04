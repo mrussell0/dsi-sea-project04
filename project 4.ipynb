{
 "cells": [
  {
   "cell_type": "markdown",
   "metadata": {},
   "source": [
    "Problem Statement.\n",
    "\n",
    "\n",
    "Use Twitter data to predict seniment analysis "
   ]
  },
  {
   "cell_type": "code",
   "execution_count": 2,
   "metadata": {
    "collapsed": false
   },
   "outputs": [
    {
     "name": "stderr",
     "output_type": "stream",
     "text": [
      "/Users/work/anaconda/lib/python2.7/site-packages/sklearn/cross_validation.py:44: DeprecationWarning: This module was deprecated in version 0.18 in favor of the model_selection module into which all the refactored classes and functions are moved. Also note that the interface of the new CV iterators are different from that of this module. This module will be removed in 0.20.\n",
      "  \"This module will be removed in 0.20.\", DeprecationWarning)\n",
      "/Users/work/anaconda/lib/python2.7/site-packages/sklearn/grid_search.py:43: DeprecationWarning: This module was deprecated in version 0.18 in favor of the model_selection module into which all the refactored classes and functions are moved. This module will be removed in 0.20.\n",
      "  DeprecationWarning)\n"
     ]
    }
   ],
   "source": [
    "import pandas as pd\n",
    "import numpy as np\n",
    "import matplotlib.pyplot as plt\n",
    "import json\n",
    "from sklearn.metrics import classification_report, confusion_matrix, accuracy_score\n",
    "from sklearn.cross_validation import train_test_split\n",
    "from sklearn.linear_model import LogisticRegression, LogisticRegressionCV\n",
    "from sklearn.grid_search import GridSearchCV\n",
    "import seaborn as sns\n",
    "\n",
    "\n",
    "tweets_data = []\n",
    "tweets_file = open('twitter_data.txt', 'r+')\n",
    "for line in tweets_file:\n",
    "    try:\n",
    "        tweet = json.loads(line)\n",
    "        tweets_data.append(tweet)\n",
    "    except:\n",
    "        continue       "
   ]
  },
  {
   "cell_type": "code",
   "execution_count": 3,
   "metadata": {
    "collapsed": true
   },
   "outputs": [],
   "source": [
    "tweets = pd.DataFrame(tweets_data)"
   ]
  },
  {
   "cell_type": "code",
   "execution_count": 5,
   "metadata": {
    "collapsed": false
   },
   "outputs": [
    {
     "data": {
      "text/html": [
       "<div>\n",
       "<table border=\"1\" class=\"dataframe\">\n",
       "  <thead>\n",
       "    <tr style=\"text-align: right;\">\n",
       "      <th></th>\n",
       "      <th>contributors</th>\n",
       "      <th>coordinates</th>\n",
       "      <th>created_at</th>\n",
       "      <th>display_text_range</th>\n",
       "      <th>entities</th>\n",
       "      <th>extended_entities</th>\n",
       "      <th>extended_tweet</th>\n",
       "      <th>favorite_count</th>\n",
       "      <th>favorited</th>\n",
       "      <th>filter_level</th>\n",
       "      <th>...</th>\n",
       "      <th>quoted_status_id</th>\n",
       "      <th>quoted_status_id_str</th>\n",
       "      <th>retweet_count</th>\n",
       "      <th>retweeted</th>\n",
       "      <th>retweeted_status</th>\n",
       "      <th>source</th>\n",
       "      <th>text</th>\n",
       "      <th>timestamp_ms</th>\n",
       "      <th>truncated</th>\n",
       "      <th>user</th>\n",
       "    </tr>\n",
       "  </thead>\n",
       "  <tbody>\n",
       "    <tr>\n",
       "      <th>0</th>\n",
       "      <td>NaN</td>\n",
       "      <td>None</td>\n",
       "      <td>Sun Oct 30 22:45:33 +0000 2016</td>\n",
       "      <td>NaN</td>\n",
       "      <td>{u'user_mentions': [{u'id': 20818801, u'indice...</td>\n",
       "      <td>NaN</td>\n",
       "      <td>NaN</td>\n",
       "      <td>0.0</td>\n",
       "      <td>False</td>\n",
       "      <td>low</td>\n",
       "      <td>...</td>\n",
       "      <td>NaN</td>\n",
       "      <td>NaN</td>\n",
       "      <td>0.0</td>\n",
       "      <td>False</td>\n",
       "      <td>{u'contributors': None, u'truncated': False, u...</td>\n",
       "      <td>&lt;a href=\"http://twitter.com/download/android\" ...</td>\n",
       "      <td>RT @dailykos: Washington Post's account of Tru...</td>\n",
       "      <td>1477867533428</td>\n",
       "      <td>False</td>\n",
       "      <td>{u'follow_request_sent': None, u'profile_use_b...</td>\n",
       "    </tr>\n",
       "    <tr>\n",
       "      <th>1</th>\n",
       "      <td>NaN</td>\n",
       "      <td>None</td>\n",
       "      <td>Sun Oct 30 22:45:33 +0000 2016</td>\n",
       "      <td>NaN</td>\n",
       "      <td>{u'user_mentions': [{u'id': 159311024, u'indic...</td>\n",
       "      <td>NaN</td>\n",
       "      <td>NaN</td>\n",
       "      <td>0.0</td>\n",
       "      <td>False</td>\n",
       "      <td>low</td>\n",
       "      <td>...</td>\n",
       "      <td>NaN</td>\n",
       "      <td>NaN</td>\n",
       "      <td>0.0</td>\n",
       "      <td>False</td>\n",
       "      <td>{u'contributors': None, u'truncated': False, u...</td>\n",
       "      <td>&lt;a href=\"http://twitter.com/download/iphone\" r...</td>\n",
       "      <td>RT @EmilyBett: Trump might be president and yo...</td>\n",
       "      <td>1477867533252</td>\n",
       "      <td>False</td>\n",
       "      <td>{u'follow_request_sent': None, u'profile_use_b...</td>\n",
       "    </tr>\n",
       "    <tr>\n",
       "      <th>2</th>\n",
       "      <td>NaN</td>\n",
       "      <td>None</td>\n",
       "      <td>Sun Oct 30 22:45:33 +0000 2016</td>\n",
       "      <td>NaN</td>\n",
       "      <td>{u'user_mentions': [], u'symbols': [], u'hasht...</td>\n",
       "      <td>NaN</td>\n",
       "      <td>NaN</td>\n",
       "      <td>0.0</td>\n",
       "      <td>False</td>\n",
       "      <td>low</td>\n",
       "      <td>...</td>\n",
       "      <td>NaN</td>\n",
       "      <td>NaN</td>\n",
       "      <td>0.0</td>\n",
       "      <td>False</td>\n",
       "      <td>NaN</td>\n",
       "      <td>&lt;a href=\"http://twitter.com\" rel=\"nofollow\"&gt;Tw...</td>\n",
       "      <td>Texas Early Voting up 50% — Official: Untapped...</td>\n",
       "      <td>1477867533326</td>\n",
       "      <td>False</td>\n",
       "      <td>{u'follow_request_sent': None, u'profile_use_b...</td>\n",
       "    </tr>\n",
       "    <tr>\n",
       "      <th>3</th>\n",
       "      <td>NaN</td>\n",
       "      <td>None</td>\n",
       "      <td>Sun Oct 30 22:45:33 +0000 2016</td>\n",
       "      <td>NaN</td>\n",
       "      <td>{u'user_mentions': [{u'id': 28785486, u'indice...</td>\n",
       "      <td>NaN</td>\n",
       "      <td>NaN</td>\n",
       "      <td>0.0</td>\n",
       "      <td>False</td>\n",
       "      <td>low</td>\n",
       "      <td>...</td>\n",
       "      <td>NaN</td>\n",
       "      <td>NaN</td>\n",
       "      <td>0.0</td>\n",
       "      <td>False</td>\n",
       "      <td>{u'contributors': None, u'truncated': True, u'...</td>\n",
       "      <td>&lt;a href=\"http://twitter.com/download/android\" ...</td>\n",
       "      <td>RT @ABC: JUST IN: FBI obtains warrant needed t...</td>\n",
       "      <td>1477867533405</td>\n",
       "      <td>False</td>\n",
       "      <td>{u'follow_request_sent': None, u'profile_use_b...</td>\n",
       "    </tr>\n",
       "    <tr>\n",
       "      <th>4</th>\n",
       "      <td>NaN</td>\n",
       "      <td>None</td>\n",
       "      <td>Sun Oct 30 22:45:33 +0000 2016</td>\n",
       "      <td>NaN</td>\n",
       "      <td>{u'user_mentions': [{u'id': 75081190, u'indice...</td>\n",
       "      <td>NaN</td>\n",
       "      <td>NaN</td>\n",
       "      <td>0.0</td>\n",
       "      <td>False</td>\n",
       "      <td>low</td>\n",
       "      <td>...</td>\n",
       "      <td>7.926930e+17</td>\n",
       "      <td>792693016699949056</td>\n",
       "      <td>0.0</td>\n",
       "      <td>False</td>\n",
       "      <td>{u'contributors': None, u'truncated': False, u...</td>\n",
       "      <td>&lt;a href=\"http://twitter.com/download/android\" ...</td>\n",
       "      <td>RT @youlivethrice: Amy Schumer sucks https://t...</td>\n",
       "      <td>1477867533372</td>\n",
       "      <td>False</td>\n",
       "      <td>{u'follow_request_sent': None, u'profile_use_b...</td>\n",
       "    </tr>\n",
       "  </tbody>\n",
       "</table>\n",
       "<p>5 rows × 34 columns</p>\n",
       "</div>"
      ],
      "text/plain": [
       "   contributors coordinates                      created_at  \\\n",
       "0           NaN        None  Sun Oct 30 22:45:33 +0000 2016   \n",
       "1           NaN        None  Sun Oct 30 22:45:33 +0000 2016   \n",
       "2           NaN        None  Sun Oct 30 22:45:33 +0000 2016   \n",
       "3           NaN        None  Sun Oct 30 22:45:33 +0000 2016   \n",
       "4           NaN        None  Sun Oct 30 22:45:33 +0000 2016   \n",
       "\n",
       "  display_text_range                                           entities  \\\n",
       "0                NaN  {u'user_mentions': [{u'id': 20818801, u'indice...   \n",
       "1                NaN  {u'user_mentions': [{u'id': 159311024, u'indic...   \n",
       "2                NaN  {u'user_mentions': [], u'symbols': [], u'hasht...   \n",
       "3                NaN  {u'user_mentions': [{u'id': 28785486, u'indice...   \n",
       "4                NaN  {u'user_mentions': [{u'id': 75081190, u'indice...   \n",
       "\n",
       "  extended_entities extended_tweet  favorite_count favorited filter_level  \\\n",
       "0               NaN            NaN             0.0     False          low   \n",
       "1               NaN            NaN             0.0     False          low   \n",
       "2               NaN            NaN             0.0     False          low   \n",
       "3               NaN            NaN             0.0     False          low   \n",
       "4               NaN            NaN             0.0     False          low   \n",
       "\n",
       "                         ...                         quoted_status_id  \\\n",
       "0                        ...                                      NaN   \n",
       "1                        ...                                      NaN   \n",
       "2                        ...                                      NaN   \n",
       "3                        ...                                      NaN   \n",
       "4                        ...                             7.926930e+17   \n",
       "\n",
       "   quoted_status_id_str retweet_count retweeted  \\\n",
       "0                   NaN           0.0     False   \n",
       "1                   NaN           0.0     False   \n",
       "2                   NaN           0.0     False   \n",
       "3                   NaN           0.0     False   \n",
       "4    792693016699949056           0.0     False   \n",
       "\n",
       "                                    retweeted_status  \\\n",
       "0  {u'contributors': None, u'truncated': False, u...   \n",
       "1  {u'contributors': None, u'truncated': False, u...   \n",
       "2                                                NaN   \n",
       "3  {u'contributors': None, u'truncated': True, u'...   \n",
       "4  {u'contributors': None, u'truncated': False, u...   \n",
       "\n",
       "                                              source  \\\n",
       "0  <a href=\"http://twitter.com/download/android\" ...   \n",
       "1  <a href=\"http://twitter.com/download/iphone\" r...   \n",
       "2  <a href=\"http://twitter.com\" rel=\"nofollow\">Tw...   \n",
       "3  <a href=\"http://twitter.com/download/android\" ...   \n",
       "4  <a href=\"http://twitter.com/download/android\" ...   \n",
       "\n",
       "                                                text   timestamp_ms truncated  \\\n",
       "0  RT @dailykos: Washington Post's account of Tru...  1477867533428     False   \n",
       "1  RT @EmilyBett: Trump might be president and yo...  1477867533252     False   \n",
       "2  Texas Early Voting up 50% — Official: Untapped...  1477867533326     False   \n",
       "3  RT @ABC: JUST IN: FBI obtains warrant needed t...  1477867533405     False   \n",
       "4  RT @youlivethrice: Amy Schumer sucks https://t...  1477867533372     False   \n",
       "\n",
       "                                                user  \n",
       "0  {u'follow_request_sent': None, u'profile_use_b...  \n",
       "1  {u'follow_request_sent': None, u'profile_use_b...  \n",
       "2  {u'follow_request_sent': None, u'profile_use_b...  \n",
       "3  {u'follow_request_sent': None, u'profile_use_b...  \n",
       "4  {u'follow_request_sent': None, u'profile_use_b...  \n",
       "\n",
       "[5 rows x 34 columns]"
      ]
     },
     "execution_count": 5,
     "metadata": {},
     "output_type": "execute_result"
    }
   ],
   "source": [
    "tweets.head()"
   ]
  },
  {
   "cell_type": "code",
   "execution_count": 6,
   "metadata": {
    "collapsed": false
   },
   "outputs": [],
   "source": [
    "#drop useless columns\n",
    "drop_columns = ['created_at','entities', 'contributors','display_text_range','coordinates','extended_entities','geo', 'place',\n",
    "                'quoted_status','quoted_status_id','possibly_sensitive',\n",
    "                'in_reply_to_screen_name', 'in_reply_to_user_id_str', 'extended_tweet','favorite_count','favorited','filter_level','id_str','id','in_reply_to_status_id',\n",
    "                'in_reply_to_status_id_str','in_reply_to_user_id','limit','quoted_status_id_str','retweet_count', 'truncated', 'retweeted_status', 'timestamp_ms']\n",
    "\n",
    "tweets.drop(drop_columns, axis=1, inplace=True)"
   ]
  },
  {
   "cell_type": "markdown",
   "metadata": {},
   "source": [
    "## Cleaning the data"
   ]
  },
  {
   "cell_type": "code",
   "execution_count": 7,
   "metadata": {
    "collapsed": false
   },
   "outputs": [],
   "source": [
    "### Clean up source column\n",
    "source = []\n",
    "for i in tweets['source']:\n",
    "    if type(i) == float:\n",
    "        source += [i]\n",
    "    else:\n",
    "        source += [i.split('\">')[1].split('<')[0]]\n",
    "tweets['source'] = source"
   ]
  },
  {
   "cell_type": "code",
   "execution_count": 8,
   "metadata": {
    "collapsed": false
   },
   "outputs": [],
   "source": [
    "##Expand User data into new columnns. Here you can see the key value pairs that are contain in the users column\n",
    "\n",
    "favourites_count = []\n",
    "followers_count = []\n",
    "following = []\n",
    "friends_count = []\n",
    "lang = []\n",
    "location = []\n",
    "name = []\n",
    "screen_name = []\n",
    "time_zone = []\n",
    "verified = []\n",
    "statuses_count = []\n",
    "\n",
    "for i in tweets['user']:   \n",
    "    if type(i) == float:\n",
    "        favourites_count += [i]\n",
    "        followers_count += [i]\n",
    "        following += [i]\n",
    "        friends_count += [i]\n",
    "        lang += [i]\n",
    "        location += [i]\n",
    "        name += [i]\n",
    "        screen_name += [i]\n",
    "        time_zone += [i]\n",
    "        verified += [i]\n",
    "        statuses_count += [i]\n",
    "    else:\n",
    "        favourites_count += [i['followers_count']]\n",
    "        followers_count += [i['followers_count']]\n",
    "        following += [i['following']]\n",
    "        friends_count += [i['friends_count']]\n",
    "        lang += [i['lang']]\n",
    "        location += [i['location']]\n",
    "        name += [i['name']]\n",
    "        screen_name += [i['screen_name']]\n",
    "        time_zone += [i['time_zone']]\n",
    "        verified += [i['verified']]\n",
    "        statuses_count += [i['statuses_count']]\n",
    "    \n",
    "    \n",
    "tweets['favourites_count'] = favourites_count\n",
    "tweets['followers_count'] = followers_count\n",
    "tweets['following'] = following\n",
    "tweets['friends_count'] = friends_count\n",
    "tweets['lang'] = lang\n",
    "tweets['location'] = location\n",
    "tweets['name'] = name\n",
    "tweets['screen_name'] = screen_name\n",
    "tweets['time_zone'] = time_zone\n",
    "tweets['verified'] = verified\n",
    "tweets['statuses_count'] = statuses_count\n"
   ]
  },
  {
   "cell_type": "code",
   "execution_count": 9,
   "metadata": {
    "collapsed": false
   },
   "outputs": [
    {
     "data": {
      "text/plain": [
       "(7786, 15)"
      ]
     },
     "execution_count": 9,
     "metadata": {},
     "output_type": "execute_result"
    }
   ],
   "source": [
    "tweets.dropna(axis=1, how='all', inplace=True)\n",
    "tweets.dropna(axis=0, how='any', inplace=True)\n",
    "tweets.shape"
   ]
  },
  {
   "cell_type": "code",
   "execution_count": 11,
   "metadata": {
    "collapsed": false
   },
   "outputs": [],
   "source": [
    "##Create sentiment analysis on text using Text Blob\n",
    "from textblob import TextBlob\n",
    "## Text blob uses a lexical analysis to estimate polarity and subjectivity\n",
    "polarity = []\n",
    "subjectivity = []\n",
    "for tweet in tweets['text']:\n",
    "        analysis = TextBlob(tweet)\n",
    "        polarity += [analysis.sentiment.polarity]\n",
    "        subjectivity += [analysis.sentiment.subjectivity]\n",
    "        \n",
    "tweets['polarity'] = polarity\n",
    "tweets['subjectivity'] = subjectivity"
   ]
  },
  {
   "cell_type": "code",
   "execution_count": 12,
   "metadata": {
    "collapsed": false
   },
   "outputs": [],
   "source": [
    "polarity_cat = []\n",
    "for i in tweets['polarity']:\n",
    "    if i < 0.25:\n",
    "        polarity_cat += [\"negative\"]\n",
    "    elif i > 0.25 and i < 0.5:\n",
    "        polarity_cat += [\"somewhat negative\"]\n",
    "    elif i > 0.5 and i < 0.75:\n",
    "        polarity_cat += [\"somewhat positive\"]\n",
    "    else:\n",
    "        polarity_cat += [\"positive\"]\n",
    "        \n",
    "tweets['polarity_cat']  = polarity_cat"
   ]
  },
  {
   "cell_type": "code",
   "execution_count": 13,
   "metadata": {
    "collapsed": true
   },
   "outputs": [],
   "source": [
    "subjectivity_cat = []\n",
    "for i in tweets['subjectivity']:\n",
    "    if i < 0.25:\n",
    "        subjectivity_cat += [\"false\"]\n",
    "    elif i > 0.25 and i < 0.5:\n",
    "        subjectivity_cat += [\"somewhat false\"]\n",
    "    elif i > 0.5 and i < 0.75:\n",
    "        subjectivity_cat += [\"somewhat true\"]\n",
    "    else:\n",
    "        subjectivity_cat += [\"true\"]\n",
    "        \n",
    "tweets['subjectivity_cat']  = subjectivity_cat"
   ]
  },
  {
   "cell_type": "code",
   "execution_count": 38,
   "metadata": {
    "collapsed": false
   },
   "outputs": [
    {
     "data": {
      "text/plain": [
       "negative             4527\n",
       "positive              428\n",
       "somewhat negative     351\n",
       "somewhat positive     109\n",
       "Name: polarity_cat, dtype: int64"
      ]
     },
     "execution_count": 38,
     "metadata": {},
     "output_type": "execute_result"
    }
   ],
   "source": [
    "tweets['polarity_cat'].value_counts()"
   ]
  },
  {
   "cell_type": "code",
   "execution_count": 15,
   "metadata": {
    "collapsed": false
   },
   "outputs": [],
   "source": [
    "tweets = tweets[tweets['lang'].isin(tweets['lang'].value_counts()[:1].index.values)]\n",
    "tweets = tweets[tweets['source'].isin(tweets['source'].value_counts()[:10].index.values)]\n",
    "tweets = tweets[tweets['time_zone'].isin(tweets['time_zone'].value_counts()[:5].index.values)]"
   ]
  },
  {
   "cell_type": "code",
   "execution_count": 16,
   "metadata": {
    "collapsed": false
   },
   "outputs": [
    {
     "data": {
      "text/plain": [
       "array([u'is_quote_status', u'lang', u'retweeted', u'source', u'text',\n",
       "       u'user', 'favourites_count', 'followers_count', 'friends_count',\n",
       "       'location', 'name', 'screen_name', 'time_zone', 'verified',\n",
       "       'statuses_count', 'polarity', 'subjectivity', 'polarity_cat',\n",
       "       'subjectivity_cat'], dtype=object)"
      ]
     },
     "execution_count": 16,
     "metadata": {},
     "output_type": "execute_result"
    }
   ],
   "source": [
    "tweets.columns.values"
   ]
  },
  {
   "cell_type": "markdown",
   "metadata": {},
   "source": [
    "## Exploritory Data Analysis"
   ]
  },
  {
   "cell_type": "code",
   "execution_count": 17,
   "metadata": {
    "collapsed": false
   },
   "outputs": [
    {
     "data": {
      "text/plain": [
       "<matplotlib.axes._subplots.AxesSubplot at 0x157702810>"
      ]
     },
     "execution_count": 17,
     "metadata": {},
     "output_type": "execute_result"
    }
   ],
   "source": [
    "# plot\n",
    "sns.factorplot('verified','subjectivity_cat', data=tweets, size=4,aspect=3)\n",
    "\n",
    "sns.countplot(x='verified', data=tweets)\n",
    "sns.countplot(x='subjectivity_cat', hue=\"verified\", data=tweets)\n",
    "\n",
    "\n",
    "sns.barplot(x='verified', y='subjectivity_cat', data=tweets)"
   ]
  },
  {
   "cell_type": "code",
   "execution_count": null,
   "metadata": {
    "collapsed": false
   },
   "outputs": [],
   "source": [
    "#pivot table on catigorical lables\n",
    "\n",
    "# tweets['verified'].value_counts()\n",
    "\n",
    "# sums = pd.DataFrame()\n",
    "# sums['count'] = tweets['verified'].value_counts()\n",
    "# sums['count'] = tweets['subjectivity_cat'].value_counts()\n",
    "# sums['count'] = tweets['polarity_cat'].value_counts()\n",
    "# sums['count'] = tweets['time_zone'].value_counts()\n",
    "# sums['count'] = tweets['source'].value_counts()"
   ]
  },
  {
   "cell_type": "code",
   "execution_count": null,
   "metadata": {
    "collapsed": false
   },
   "outputs": [],
   "source": [
    "## factor plots\n",
    "#sns.factorplot(verified)"
   ]
  },
  {
   "cell_type": "code",
   "execution_count": 18,
   "metadata": {
    "collapsed": false,
    "scrolled": true
   },
   "outputs": [],
   "source": [
    "## create dummy variables\n",
    "dummies = pd.get_dummies(tweets[['verified','subjectivity_cat','polarity_cat','time_zone','source']])\n",
    "tweets = tweets.join(dummies)"
   ]
  },
  {
   "cell_type": "code",
   "execution_count": 19,
   "metadata": {
    "collapsed": false
   },
   "outputs": [
    {
     "name": "stdout",
     "output_type": "stream",
     "text": [
      "                                       favourites_count  followers_count  \\\n",
      "favourites_count                               1.000000         1.000000   \n",
      "followers_count                                1.000000         1.000000   \n",
      "friends_count                                  0.194280         0.194280   \n",
      "statuses_count                                 0.054766         0.054766   \n",
      "polarity                                       0.000772         0.000772   \n",
      "subjectivity                                  -0.020007        -0.020007   \n",
      "verified_False                                -0.217757        -0.217757   \n",
      "verified_True                                  0.217757         0.217757   \n",
      "subjectivity_cat_false                         0.014556         0.014556   \n",
      "subjectivity_cat_somewhat false                0.003699         0.003699   \n",
      "subjectivity_cat_somewhat true                -0.009294        -0.009294   \n",
      "subjectivity_cat_true                         -0.013204        -0.013204   \n",
      "polarity_cat_negative                          0.011208         0.011208   \n",
      "polarity_cat_positive                         -0.009746        -0.009746   \n",
      "polarity_cat_somewhat negative                -0.004264        -0.004264   \n",
      "polarity_cat_somewhat positive                -0.003350        -0.003350   \n",
      "time_zone_Atlantic Time (Canada)              -0.012281        -0.012281   \n",
      "time_zone_Central Time (US & Canada)          -0.006669        -0.006669   \n",
      "time_zone_Eastern Time (US & Canada)           0.031132         0.031132   \n",
      "time_zone_Mountain Time (US & Canada)         -0.003623        -0.003623   \n",
      "time_zone_Pacific Time (US & Canada)          -0.019683        -0.019683   \n",
      "source_Facebook                               -0.006342        -0.006342   \n",
      "source_IFTTT                                  -0.000488        -0.000488   \n",
      "source_Mobile Web (M5)                        -0.007717        -0.007717   \n",
      "source_TweetDeck                               0.003878         0.003878   \n",
      "source_Tweetbot for iΟS                        0.044047         0.044047   \n",
      "source_Twitter Web Client                     -0.004509        -0.004509   \n",
      "source_Twitter for Android                    -0.016012        -0.016012   \n",
      "source_Twitter for iPad                       -0.006056        -0.006056   \n",
      "source_Twitter for iPhone                      0.008788         0.008788   \n",
      "source_twitterfeed                             0.043995         0.043995   \n",
      "\n",
      "                                       friends_count  statuses_count  \\\n",
      "favourites_count                            0.194280        0.054766   \n",
      "followers_count                             0.194280        0.054766   \n",
      "friends_count                               1.000000        0.197637   \n",
      "statuses_count                              0.197637        1.000000   \n",
      "polarity                                    0.008316       -0.022951   \n",
      "subjectivity                               -0.022803       -0.004292   \n",
      "verified_False                              0.007702       -0.001338   \n",
      "verified_True                              -0.007702        0.001338   \n",
      "subjectivity_cat_false                      0.016000        0.015612   \n",
      "subjectivity_cat_somewhat false            -0.005845       -0.012605   \n",
      "subjectivity_cat_somewhat true             -0.009985       -0.020362   \n",
      "subjectivity_cat_true                      -0.005739        0.010290   \n",
      "polarity_cat_negative                       0.001308        0.024469   \n",
      "polarity_cat_positive                      -0.007661       -0.029772   \n",
      "polarity_cat_somewhat negative              0.002247        0.005524   \n",
      "polarity_cat_somewhat positive              0.007330       -0.017000   \n",
      "time_zone_Atlantic Time (Canada)           -0.024940       -0.041892   \n",
      "time_zone_Central Time (US & Canada)       -0.003077        0.030686   \n",
      "time_zone_Eastern Time (US & Canada)        0.025066       -0.001751   \n",
      "time_zone_Mountain Time (US & Canada)       0.007808        0.064559   \n",
      "time_zone_Pacific Time (US & Canada)       -0.015921       -0.036168   \n",
      "source_Facebook                            -0.007898       -0.007483   \n",
      "source_IFTTT                                0.004945        0.024608   \n",
      "source_Mobile Web (M5)                     -0.009198       -0.005798   \n",
      "source_TweetDeck                           -0.004945        0.061989   \n",
      "source_Tweetbot for iΟS                    -0.001739        0.015493   \n",
      "source_Twitter Web Client                   0.035364       -0.022522   \n",
      "source_Twitter for Android                 -0.008580        0.007458   \n",
      "source_Twitter for iPad                     0.005224        0.025272   \n",
      "source_Twitter for iPhone                  -0.027149       -0.049281   \n",
      "source_twitterfeed                          0.015657        0.197062   \n",
      "\n",
      "                                       polarity  subjectivity  verified_False  \\\n",
      "favourites_count                       0.000772     -0.020007       -0.217757   \n",
      "followers_count                        0.000772     -0.020007       -0.217757   \n",
      "friends_count                          0.008316     -0.022803        0.007702   \n",
      "statuses_count                        -0.022951     -0.004292       -0.001338   \n",
      "polarity                               1.000000     -0.013075        0.013372   \n",
      "subjectivity                          -0.013075      1.000000        0.004736   \n",
      "verified_False                         0.013372      0.004736        1.000000   \n",
      "verified_True                         -0.013372     -0.004736       -1.000000   \n",
      "subjectivity_cat_false                -0.086664     -0.864540       -0.002866   \n",
      "subjectivity_cat_somewhat false        0.062189      0.071805       -0.016424   \n",
      "subjectivity_cat_somewhat true         0.014289      0.379961        0.000776   \n",
      "subjectivity_cat_true                  0.039523      0.676095        0.017783   \n",
      "polarity_cat_negative                 -0.699524     -0.389083       -0.016452   \n",
      "polarity_cat_positive                  0.534464      0.253111        0.012811   \n",
      "polarity_cat_somewhat negative         0.300800      0.204842        0.007011   \n",
      "polarity_cat_somewhat positive         0.290164      0.180434        0.006473   \n",
      "time_zone_Atlantic Time (Canada)      -0.008802      0.009109        0.012258   \n",
      "time_zone_Central Time (US & Canada)  -0.011926      0.013734        0.012552   \n",
      "time_zone_Eastern Time (US & Canada)   0.000136     -0.001266       -0.046154   \n",
      "time_zone_Mountain Time (US & Canada) -0.008756     -0.007532       -0.017128   \n",
      "time_zone_Pacific Time (US & Canada)   0.018661     -0.011778        0.039808   \n",
      "source_Facebook                        0.014837     -0.009755        0.013619   \n",
      "source_IFTTT                          -0.001010     -0.048836        0.000091   \n",
      "source_Mobile Web (M5)                 0.008632      0.023278        0.010329   \n",
      "source_TweetDeck                      -0.029468      0.014218       -0.163826   \n",
      "source_Tweetbot for iΟS               -0.001298      0.009470       -0.022302   \n",
      "source_Twitter Web Client              0.002745     -0.014862       -0.004223   \n",
      "source_Twitter for Android             0.014047      0.005658        0.054531   \n",
      "source_Twitter for iPad                0.002731      0.001210        0.033474   \n",
      "source_Twitter for iPhone             -0.007842      0.005582       -0.018028   \n",
      "source_twitterfeed                    -0.037945      0.025869        0.008772   \n",
      "\n",
      "                                       verified_True  subjectivity_cat_false  \\\n",
      "favourites_count                            0.217757                0.014556   \n",
      "followers_count                             0.217757                0.014556   \n",
      "friends_count                              -0.007702                0.016000   \n",
      "statuses_count                              0.001338                0.015612   \n",
      "polarity                                   -0.013372               -0.086664   \n",
      "subjectivity                               -0.004736               -0.864540   \n",
      "verified_False                             -1.000000               -0.002866   \n",
      "verified_True                               1.000000                0.002866   \n",
      "subjectivity_cat_false                      0.002866                1.000000   \n",
      "subjectivity_cat_somewhat false             0.016424               -0.421758   \n",
      "subjectivity_cat_somewhat true             -0.000776               -0.422356   \n",
      "subjectivity_cat_true                      -0.017783               -0.490582   \n",
      "polarity_cat_negative                       0.016452                0.403181   \n",
      "polarity_cat_positive                      -0.012811               -0.280198   \n",
      "polarity_cat_somewhat negative             -0.007011               -0.218414   \n",
      "polarity_cat_somewhat positive             -0.006473               -0.141774   \n",
      "time_zone_Atlantic Time (Canada)           -0.012258               -0.006360   \n",
      "time_zone_Central Time (US & Canada)       -0.012552               -0.007144   \n",
      "time_zone_Eastern Time (US & Canada)        0.046154               -0.000866   \n",
      "time_zone_Mountain Time (US & Canada)       0.017128                0.013822   \n",
      "time_zone_Pacific Time (US & Canada)       -0.039808                0.003952   \n",
      "source_Facebook                            -0.013619                0.009573   \n",
      "source_IFTTT                               -0.000091                0.045696   \n",
      "source_Mobile Web (M5)                     -0.010329               -0.023638   \n",
      "source_TweetDeck                            0.163826               -0.020127   \n",
      "source_Tweetbot for iΟS                     0.022302               -0.019115   \n",
      "source_Twitter Web Client                   0.004223                0.014922   \n",
      "source_Twitter for Android                 -0.054531               -0.002332   \n",
      "source_Twitter for iPad                    -0.033474               -0.012167   \n",
      "source_Twitter for iPhone                   0.018028                0.000964   \n",
      "source_twitterfeed                         -0.008772               -0.019814   \n",
      "\n",
      "                                       subjectivity_cat_somewhat false  \\\n",
      "favourites_count                                              0.003699   \n",
      "followers_count                                               0.003699   \n",
      "friends_count                                                -0.005845   \n",
      "statuses_count                                               -0.012605   \n",
      "polarity                                                      0.062189   \n",
      "subjectivity                                                  0.071805   \n",
      "verified_False                                               -0.016424   \n",
      "verified_True                                                 0.016424   \n",
      "subjectivity_cat_false                                       -0.421758   \n",
      "subjectivity_cat_somewhat false                               1.000000   \n",
      "subjectivity_cat_somewhat true                               -0.182056   \n",
      "subjectivity_cat_true                                        -0.211465   \n",
      "polarity_cat_negative                                        -0.008844   \n",
      "polarity_cat_positive                                        -0.011080   \n",
      "polarity_cat_somewhat negative                                0.058221   \n",
      "polarity_cat_somewhat positive                               -0.057467   \n",
      "time_zone_Atlantic Time (Canada)                             -0.004290   \n",
      "time_zone_Central Time (US & Canada)                         -0.008915   \n",
      "time_zone_Eastern Time (US & Canada)                         -0.000778   \n",
      "time_zone_Mountain Time (US & Canada)                        -0.006359   \n",
      "time_zone_Pacific Time (US & Canada)                          0.013746   \n",
      "source_Facebook                                              -0.001420   \n",
      "source_IFTTT                                                  0.020014   \n",
      "source_Mobile Web (M5)                                        0.006906   \n",
      "source_TweetDeck                                              0.015933   \n",
      "source_Tweetbot for iΟS                                       0.027461   \n",
      "source_Twitter Web Client                                    -0.019587   \n",
      "source_Twitter for Android                                   -0.003007   \n",
      "source_Twitter for iPad                                       0.024797   \n",
      "source_Twitter for iPhone                                    -0.009896   \n",
      "source_twitterfeed                                            0.012080   \n",
      "\n",
      "                                              ...          source_Facebook  \\\n",
      "favourites_count                              ...                -0.006342   \n",
      "followers_count                               ...                -0.006342   \n",
      "friends_count                                 ...                -0.007898   \n",
      "statuses_count                                ...                -0.007483   \n",
      "polarity                                      ...                 0.014837   \n",
      "subjectivity                                  ...                -0.009755   \n",
      "verified_False                                ...                 0.013619   \n",
      "verified_True                                 ...                -0.013619   \n",
      "subjectivity_cat_false                        ...                 0.009573   \n",
      "subjectivity_cat_somewhat false               ...                -0.001420   \n",
      "subjectivity_cat_somewhat true                ...                -0.020037   \n",
      "subjectivity_cat_true                         ...                 0.007442   \n",
      "polarity_cat_negative                         ...                 0.008966   \n",
      "polarity_cat_positive                         ...                -0.001831   \n",
      "polarity_cat_somewhat negative                ...                -0.002327   \n",
      "polarity_cat_somewhat positive                ...                -0.016042   \n",
      "time_zone_Atlantic Time (Canada)              ...                -0.000936   \n",
      "time_zone_Central Time (US & Canada)          ...                 0.013163   \n",
      "time_zone_Eastern Time (US & Canada)          ...                -0.002739   \n",
      "time_zone_Mountain Time (US & Canada)         ...                -0.016731   \n",
      "time_zone_Pacific Time (US & Canada)          ...                -0.000881   \n",
      "source_Facebook                               ...                 1.000000   \n",
      "source_IFTTT                                  ...                -0.012716   \n",
      "source_Mobile Web (M5)                        ...                -0.018368   \n",
      "source_TweetDeck                              ...                -0.014633   \n",
      "source_Tweetbot for iΟS                       ...                -0.010360   \n",
      "source_Twitter Web Client                     ...                -0.075554   \n",
      "source_Twitter for Android                    ...                -0.053791   \n",
      "source_Twitter for iPad                       ...                -0.030793   \n",
      "source_Twitter for iPhone                     ...                -0.081626   \n",
      "source_twitterfeed                            ...                -0.008070   \n",
      "\n",
      "                                       source_IFTTT  source_Mobile Web (M5)  \\\n",
      "favourites_count                          -0.000488               -0.007717   \n",
      "followers_count                           -0.000488               -0.007717   \n",
      "friends_count                              0.004945               -0.009198   \n",
      "statuses_count                             0.024608               -0.005798   \n",
      "polarity                                  -0.001010                0.008632   \n",
      "subjectivity                              -0.048836                0.023278   \n",
      "verified_False                             0.000091                0.010329   \n",
      "verified_True                             -0.000091               -0.010329   \n",
      "subjectivity_cat_false                     0.045696               -0.023638   \n",
      "subjectivity_cat_somewhat false            0.020014                0.006906   \n",
      "subjectivity_cat_somewhat true            -0.039391                0.022731   \n",
      "subjectivity_cat_true                     -0.039799                0.002808   \n",
      "polarity_cat_negative                      0.032529               -0.017833   \n",
      "polarity_cat_positive                     -0.014974                0.003325   \n",
      "polarity_cat_somewhat negative            -0.023223                0.017816   \n",
      "polarity_cat_somewhat positive            -0.016283                0.009394   \n",
      "time_zone_Atlantic Time (Canada)          -0.009466               -0.008824   \n",
      "time_zone_Central Time (US & Canada)      -0.032501                0.016092   \n",
      "time_zone_Eastern Time (US & Canada)      -0.005305               -0.039604   \n",
      "time_zone_Mountain Time (US & Canada)     -0.017216               -0.008696   \n",
      "time_zone_Pacific Time (US & Canada)       0.047165                0.035483   \n",
      "source_Facebook                           -0.012716               -0.018368   \n",
      "source_IFTTT                               1.000000               -0.018643   \n",
      "source_Mobile Web (M5)                    -0.018643                1.000000   \n",
      "source_TweetDeck                          -0.014853               -0.021454   \n",
      "source_Tweetbot for iΟS                   -0.010516               -0.015190   \n",
      "source_Twitter Web Client                 -0.076687               -0.110772   \n",
      "source_Twitter for Android                -0.054598               -0.078865   \n",
      "source_Twitter for iPad                   -0.031255               -0.045146   \n",
      "source_Twitter for iPhone                 -0.082850               -0.119674   \n",
      "source_twitterfeed                        -0.008191               -0.011831   \n",
      "\n",
      "                                       source_TweetDeck  \\\n",
      "favourites_count                               0.003878   \n",
      "followers_count                                0.003878   \n",
      "friends_count                                 -0.004945   \n",
      "statuses_count                                 0.061989   \n",
      "polarity                                      -0.029468   \n",
      "subjectivity                                   0.014218   \n",
      "verified_False                                -0.163826   \n",
      "verified_True                                  0.163826   \n",
      "subjectivity_cat_false                        -0.020127   \n",
      "subjectivity_cat_somewhat false                0.015933   \n",
      "subjectivity_cat_somewhat true                 0.031697   \n",
      "subjectivity_cat_true                         -0.017919   \n",
      "polarity_cat_negative                          0.011342   \n",
      "polarity_cat_positive                         -0.017001   \n",
      "polarity_cat_somewhat negative                 0.006427   \n",
      "polarity_cat_somewhat positive                -0.008509   \n",
      "time_zone_Atlantic Time (Canada)              -0.001602   \n",
      "time_zone_Central Time (US & Canada)           0.034633   \n",
      "time_zone_Eastern Time (US & Canada)          -0.011924   \n",
      "time_zone_Mountain Time (US & Canada)          0.019009   \n",
      "time_zone_Pacific Time (US & Canada)          -0.026574   \n",
      "source_Facebook                               -0.014633   \n",
      "source_IFTTT                                  -0.014853   \n",
      "source_Mobile Web (M5)                        -0.021454   \n",
      "source_TweetDeck                               1.000000   \n",
      "source_Tweetbot for iΟS                       -0.012101   \n",
      "source_Twitter Web Client                     -0.088250   \n",
      "source_Twitter for Android                    -0.062831   \n",
      "source_Twitter for iPad                       -0.035967   \n",
      "source_Twitter for iPhone                     -0.095342   \n",
      "source_twitterfeed                            -0.009426   \n",
      "\n",
      "                                       source_Tweetbot for iΟS  \\\n",
      "favourites_count                                      0.044047   \n",
      "followers_count                                       0.044047   \n",
      "friends_count                                        -0.001739   \n",
      "statuses_count                                        0.015493   \n",
      "polarity                                             -0.001298   \n",
      "subjectivity                                          0.009470   \n",
      "verified_False                                       -0.022302   \n",
      "verified_True                                         0.022302   \n",
      "subjectivity_cat_false                               -0.019115   \n",
      "subjectivity_cat_somewhat false                       0.027461   \n",
      "subjectivity_cat_somewhat true                       -0.011663   \n",
      "subjectivity_cat_true                                 0.009701   \n",
      "polarity_cat_negative                                -0.002481   \n",
      "polarity_cat_positive                                -0.004742   \n",
      "polarity_cat_somewhat negative                        0.016495   \n",
      "polarity_cat_somewhat positive                       -0.013267   \n",
      "time_zone_Atlantic Time (Canada)                     -0.020449   \n",
      "time_zone_Central Time (US & Canada)                 -0.005429   \n",
      "time_zone_Eastern Time (US & Canada)                  0.013597   \n",
      "time_zone_Mountain Time (US & Canada)                -0.001265   \n",
      "time_zone_Pacific Time (US & Canada)                  0.000448   \n",
      "source_Facebook                                      -0.010360   \n",
      "source_IFTTT                                         -0.010516   \n",
      "source_Mobile Web (M5)                               -0.015190   \n",
      "source_TweetDeck                                     -0.012101   \n",
      "source_Tweetbot for iΟS                               1.000000   \n",
      "source_Twitter Web Client                            -0.062481   \n",
      "source_Twitter for Android                           -0.044484   \n",
      "source_Twitter for iPad                              -0.025465   \n",
      "source_Twitter for iPhone                            -0.067502   \n",
      "source_twitterfeed                                   -0.006673   \n",
      "\n",
      "                                       source_Twitter Web Client  \\\n",
      "favourites_count                                       -0.004509   \n",
      "followers_count                                        -0.004509   \n",
      "friends_count                                           0.035364   \n",
      "statuses_count                                         -0.022522   \n",
      "polarity                                                0.002745   \n",
      "subjectivity                                           -0.014862   \n",
      "verified_False                                         -0.004223   \n",
      "verified_True                                           0.004223   \n",
      "subjectivity_cat_false                                  0.014922   \n",
      "subjectivity_cat_somewhat false                        -0.019587   \n",
      "subjectivity_cat_somewhat true                          0.002899   \n",
      "subjectivity_cat_true                                  -0.003619   \n",
      "polarity_cat_negative                                   0.003185   \n",
      "polarity_cat_positive                                  -0.013244   \n",
      "polarity_cat_somewhat negative                          0.005063   \n",
      "polarity_cat_somewhat positive                          0.008169   \n",
      "time_zone_Atlantic Time (Canada)                       -0.031914   \n",
      "time_zone_Central Time (US & Canada)                   -0.051732   \n",
      "time_zone_Eastern Time (US & Canada)                   -0.016078   \n",
      "time_zone_Mountain Time (US & Canada)                  -0.042747   \n",
      "time_zone_Pacific Time (US & Canada)                    0.097917   \n",
      "source_Facebook                                        -0.075554   \n",
      "source_IFTTT                                           -0.076687   \n",
      "source_Mobile Web (M5)                                 -0.110772   \n",
      "source_TweetDeck                                       -0.088250   \n",
      "source_Tweetbot for iΟS                                -0.062481   \n",
      "source_Twitter Web Client                               1.000000   \n",
      "source_Twitter for Android                             -0.324402   \n",
      "source_Twitter for iPad                                -0.185703   \n",
      "source_Twitter for iPhone                              -0.492263   \n",
      "source_twitterfeed                                     -0.048665   \n",
      "\n",
      "                                       source_Twitter for Android  \\\n",
      "favourites_count                                        -0.016012   \n",
      "followers_count                                         -0.016012   \n",
      "friends_count                                           -0.008580   \n",
      "statuses_count                                           0.007458   \n",
      "polarity                                                 0.014047   \n",
      "subjectivity                                             0.005658   \n",
      "verified_False                                           0.054531   \n",
      "verified_True                                           -0.054531   \n",
      "subjectivity_cat_false                                  -0.002332   \n",
      "subjectivity_cat_somewhat false                         -0.003007   \n",
      "subjectivity_cat_somewhat true                           0.004364   \n",
      "subjectivity_cat_true                                    0.001695   \n",
      "polarity_cat_negative                                   -0.014547   \n",
      "polarity_cat_positive                                    0.020505   \n",
      "polarity_cat_somewhat negative                          -0.011253   \n",
      "polarity_cat_somewhat positive                           0.018688   \n",
      "time_zone_Atlantic Time (Canada)                        -0.005124   \n",
      "time_zone_Central Time (US & Canada)                     0.026878   \n",
      "time_zone_Eastern Time (US & Canada)                     0.026049   \n",
      "time_zone_Mountain Time (US & Canada)                   -0.004712   \n",
      "time_zone_Pacific Time (US & Canada)                    -0.047343   \n",
      "source_Facebook                                         -0.053791   \n",
      "source_IFTTT                                            -0.054598   \n",
      "source_Mobile Web (M5)                                  -0.078865   \n",
      "source_TweetDeck                                        -0.062831   \n",
      "source_Tweetbot for iΟS                                 -0.044484   \n",
      "source_Twitter Web Client                               -0.324402   \n",
      "source_Twitter for Android                               1.000000   \n",
      "source_Twitter for iPad                                 -0.132213   \n",
      "source_Twitter for iPhone                               -0.350473   \n",
      "source_twitterfeed                                      -0.034648   \n",
      "\n",
      "                                       source_Twitter for iPad  \\\n",
      "favourites_count                                     -0.006056   \n",
      "followers_count                                      -0.006056   \n",
      "friends_count                                         0.005224   \n",
      "statuses_count                                        0.025272   \n",
      "polarity                                              0.002731   \n",
      "subjectivity                                          0.001210   \n",
      "verified_False                                        0.033474   \n",
      "verified_True                                        -0.033474   \n",
      "subjectivity_cat_false                               -0.012167   \n",
      "subjectivity_cat_somewhat false                       0.024797   \n",
      "subjectivity_cat_somewhat true                       -0.007499   \n",
      "subjectivity_cat_true                                -0.000390   \n",
      "polarity_cat_negative                                 0.012637   \n",
      "polarity_cat_positive                                -0.005658   \n",
      "polarity_cat_somewhat negative                       -0.002042   \n",
      "polarity_cat_somewhat positive                       -0.018865   \n",
      "time_zone_Atlantic Time (Canada)                      0.018062   \n",
      "time_zone_Central Time (US & Canada)                 -0.046717   \n",
      "time_zone_Eastern Time (US & Canada)                  0.034574   \n",
      "time_zone_Mountain Time (US & Canada)                 0.018338   \n",
      "time_zone_Pacific Time (US & Canada)                 -0.011179   \n",
      "source_Facebook                                      -0.030793   \n",
      "source_IFTTT                                         -0.031255   \n",
      "source_Mobile Web (M5)                               -0.045146   \n",
      "source_TweetDeck                                     -0.035967   \n",
      "source_Tweetbot for iΟS                              -0.025465   \n",
      "source_Twitter Web Client                            -0.185703   \n",
      "source_Twitter for Android                           -0.132213   \n",
      "source_Twitter for iPad                               1.000000   \n",
      "source_Twitter for iPhone                            -0.200627   \n",
      "source_twitterfeed                                   -0.019834   \n",
      "\n",
      "                                       source_Twitter for iPhone  \\\n",
      "favourites_count                                        0.008788   \n",
      "followers_count                                         0.008788   \n",
      "friends_count                                          -0.027149   \n",
      "statuses_count                                         -0.049281   \n",
      "polarity                                               -0.007842   \n",
      "subjectivity                                            0.005582   \n",
      "verified_False                                         -0.018028   \n",
      "verified_True                                           0.018028   \n",
      "subjectivity_cat_false                                  0.000964   \n",
      "subjectivity_cat_somewhat false                        -0.009896   \n",
      "subjectivity_cat_somewhat true                          0.001183   \n",
      "subjectivity_cat_true                                   0.006686   \n",
      "polarity_cat_negative                                  -0.004925   \n",
      "polarity_cat_positive                                   0.010647   \n",
      "polarity_cat_somewhat negative                         -0.002933   \n",
      "polarity_cat_somewhat positive                         -0.002328   \n",
      "time_zone_Atlantic Time (Canada)                        0.037769   \n",
      "time_zone_Central Time (US & Canada)                    0.043551   \n",
      "time_zone_Eastern Time (US & Canada)                   -0.011063   \n",
      "time_zone_Mountain Time (US & Canada)                   0.040326   \n",
      "time_zone_Pacific Time (US & Canada)                   -0.063352   \n",
      "source_Facebook                                        -0.081626   \n",
      "source_IFTTT                                           -0.082850   \n",
      "source_Mobile Web (M5)                                 -0.119674   \n",
      "source_TweetDeck                                       -0.095342   \n",
      "source_Tweetbot for iΟS                                -0.067502   \n",
      "source_Twitter Web Client                              -0.492263   \n",
      "source_Twitter for Android                             -0.350473   \n",
      "source_Twitter for iPad                                -0.200627   \n",
      "source_Twitter for iPhone                               1.000000   \n",
      "source_twitterfeed                                     -0.052576   \n",
      "\n",
      "                                       source_twitterfeed  \n",
      "favourites_count                                 0.043995  \n",
      "followers_count                                  0.043995  \n",
      "friends_count                                    0.015657  \n",
      "statuses_count                                   0.197062  \n",
      "polarity                                        -0.037945  \n",
      "subjectivity                                     0.025869  \n",
      "verified_False                                   0.008772  \n",
      "verified_True                                   -0.008772  \n",
      "subjectivity_cat_false                          -0.019814  \n",
      "subjectivity_cat_somewhat false                  0.012080  \n",
      "subjectivity_cat_somewhat true                  -0.023654  \n",
      "subjectivity_cat_true                            0.035399  \n",
      "polarity_cat_negative                            0.004115  \n",
      "polarity_cat_positive                           -0.021121  \n",
      "polarity_cat_somewhat negative                   0.022851  \n",
      "polarity_cat_somewhat positive                  -0.010333  \n",
      "time_zone_Atlantic Time (Canada)                -0.015928  \n",
      "time_zone_Central Time (US & Canada)             0.005231  \n",
      "time_zone_Eastern Time (US & Canada)             0.017032  \n",
      "time_zone_Mountain Time (US & Canada)            0.008599  \n",
      "time_zone_Pacific Time (US & Canada)            -0.019399  \n",
      "source_Facebook                                 -0.008070  \n",
      "source_IFTTT                                    -0.008191  \n",
      "source_Mobile Web (M5)                          -0.011831  \n",
      "source_TweetDeck                                -0.009426  \n",
      "source_Tweetbot for iΟS                         -0.006673  \n",
      "source_Twitter Web Client                       -0.048665  \n",
      "source_Twitter for Android                      -0.034648  \n",
      "source_Twitter for iPad                         -0.019834  \n",
      "source_Twitter for iPhone                       -0.052576  \n",
      "source_twitterfeed                               1.000000  \n",
      "\n",
      "[31 rows x 31 columns]\n"
     ]
    }
   ],
   "source": [
    "print tweets.corr()"
   ]
  },
  {
   "cell_type": "markdown",
   "metadata": {},
   "source": [
    "## Building a model"
   ]
  },
  {
   "cell_type": "markdown",
   "metadata": {},
   "source": [
    "#### Stats Model Log Reg"
   ]
  },
  {
   "cell_type": "code",
   "execution_count": 20,
   "metadata": {
    "collapsed": false
   },
   "outputs": [],
   "source": [
    "X = tweets[['time_zone_Pacific Time (US & Canada)', 'source_twitterfeed']]\n",
    "Y = tweets['polarity_cat_positive']"
   ]
  },
  {
   "cell_type": "code",
   "execution_count": 21,
   "metadata": {
    "collapsed": true
   },
   "outputs": [],
   "source": [
    "from sklearn.model_selection import train_test_split\n",
    "X_train, X_test, y_train, y_test = train_test_split(X, Y, test_size=0.33, random_state=42)"
   ]
  },
  {
   "cell_type": "code",
   "execution_count": 22,
   "metadata": {
    "collapsed": false
   },
   "outputs": [
    {
     "name": "stdout",
     "output_type": "stream",
     "text": [
      "Warning: Maximum number of iterations has been exceeded.\n",
      "         Current function value: 0.202518\n",
      "         Iterations: 35\n"
     ]
    },
    {
     "name": "stderr",
     "output_type": "stream",
     "text": [
      "/Users/work/anaconda/lib/python2.7/site-packages/statsmodels/discrete/discrete_model.py:580: VisibleDeprecationWarning: using a non-integer number instead of an integer will result in an error in the future\n",
      "  start_params = np.zeros((self.K * (self.J-1)))\n",
      "/Users/work/anaconda/lib/python2.7/site-packages/statsmodels/discrete/discrete_model.py:1840: VisibleDeprecationWarning: using a non-integer number instead of an integer will result in an error in the future\n",
      "  params = params.reshape(self.K, -1, order='F')\n",
      "/Users/work/anaconda/lib/python2.7/site-packages/statsmodels/discrete/discrete_model.py:1756: VisibleDeprecationWarning: using a non-integer number instead of an integer will result in an error in the future\n",
      "  params = params.reshape(self.K, -1, order='F')\n",
      "/Users/work/anaconda/lib/python2.7/site-packages/statsmodels/discrete/discrete_model.py:1697: VisibleDeprecationWarning: using a non-integer number instead of an integer will result in an error in the future\n",
      "  params = params.reshape(self.K, -1, order='F')\n",
      "/Users/work/anaconda/lib/python2.7/site-packages/statsmodels/base/model.py:466: ConvergenceWarning: Maximum Likelihood optimization failed to converge. Check mle_retvals\n",
      "  \"Check mle_retvals\", ConvergenceWarning)\n",
      "/Users/work/anaconda/lib/python2.7/site-packages/statsmodels/discrete/discrete_model.py:588: VisibleDeprecationWarning: using a non-integer number instead of an integer will result in an error in the future\n",
      "  mnfit.params = mnfit.params.reshape(self.K, -1, order='F')\n"
     ]
    }
   ],
   "source": [
    "import statsmodels.api as sm\n",
    "### specify the model\n",
    "mdl = sm.MNLogit(X_train, y_train)\n",
    "mdl_fit = mdl.fit()\n"
   ]
  },
  {
   "cell_type": "code",
   "execution_count": 23,
   "metadata": {
    "collapsed": false
   },
   "outputs": [
    {
     "data": {
      "text/html": [
       "<table class=\"simpletable\">\n",
       "<caption>MNLogit Regression Results</caption>\n",
       "<tr>\n",
       "  <th>Dep. Variable:</th>         <td>y</td>        <th>  No. Observations:  </th>  <td>  3628</td> \n",
       "</tr>\n",
       "<tr>\n",
       "  <th>Model:</th>              <td>MNLogit</td>     <th>  Df Residuals:      </th>  <td>  3627</td> \n",
       "</tr>\n",
       "<tr>\n",
       "  <th>Method:</th>               <td>MLE</td>       <th>  Df Model:          </th>  <td>     0</td> \n",
       "</tr>\n",
       "<tr>\n",
       "  <th>Date:</th>          <td>Tue, 01 Nov 2016</td> <th>  Pseudo R-squ.:     </th>  <td>-7.525</td> \n",
       "</tr>\n",
       "<tr>\n",
       "  <th>Time:</th>              <td>15:44:37</td>     <th>  Log-Likelihood:    </th> <td> -734.74</td>\n",
       "</tr>\n",
       "<tr>\n",
       "  <th>converged:</th>           <td>False</td>      <th>  LL-Null:           </th> <td> -86.186</td>\n",
       "</tr>\n",
       "<tr>\n",
       "  <th> </th>                      <td> </td>        <th>  LLR p-value:       </th>  <td>   nan</td> \n",
       "</tr>\n",
       "</table>\n",
       "<table class=\"simpletable\">\n",
       "<tr>\n",
       "  <th>y=source_twitterfeed</th>     <th>coef</th>     <th>std err</th>      <th>z</th>      <th>P>|z|</th> <th>[95.0% Conf. Int.]</th> \n",
       "</tr>\n",
       "<tr>\n",
       "  <th>polarity_cat_positive</th> <td>  -22.6903</td> <td> 5108.002</td> <td>   -0.004</td> <td> 0.996</td> <td>   -1e+04  9988.810</td>\n",
       "</tr>\n",
       "</table>"
      ],
      "text/plain": [
       "<class 'statsmodels.iolib.summary.Summary'>\n",
       "\"\"\"\n",
       "                          MNLogit Regression Results                          \n",
       "==============================================================================\n",
       "Dep. Variable:                      y   No. Observations:                 3628\n",
       "Model:                        MNLogit   Df Residuals:                     3627\n",
       "Method:                           MLE   Df Model:                            0\n",
       "Date:                Tue, 01 Nov 2016   Pseudo R-squ.:                  -7.525\n",
       "Time:                        15:44:37   Log-Likelihood:                -734.74\n",
       "converged:                      False   LL-Null:                       -86.186\n",
       "                                        LLR p-value:                       nan\n",
       "=========================================================================================\n",
       " y=source_twitterfeed       coef    std err          z      P>|z|      [95.0% Conf. Int.]\n",
       "-----------------------------------------------------------------------------------------\n",
       "polarity_cat_positive   -22.6903   5108.002     -0.004      0.996        -1e+04  9988.810\n",
       "=========================================================================================\n",
       "\"\"\""
      ]
     },
     "execution_count": 23,
     "metadata": {},
     "output_type": "execute_result"
    }
   ],
   "source": [
    "mdl_fit.summary()"
   ]
  },
  {
   "cell_type": "code",
   "execution_count": 26,
   "metadata": {
    "collapsed": true
   },
   "outputs": [],
   "source": [
    "fitted = mdl_fit.predict(y_test)"
   ]
  },
  {
   "cell_type": "code",
   "execution_count": 27,
   "metadata": {
    "collapsed": false
   },
   "outputs": [
    {
     "name": "stdout",
     "output_type": "stream",
     "text": [
      "1471.47202281\n",
      "1477.66845962\n"
     ]
    }
   ],
   "source": [
    "print(mdl_fit.aic)\n",
    "print(mdl_fit.bic)"
   ]
  },
  {
   "cell_type": "markdown",
   "metadata": {},
   "source": [
    "#### SKLearn Log Reg"
   ]
  },
  {
   "cell_type": "code",
   "execution_count": 28,
   "metadata": {
    "collapsed": false
   },
   "outputs": [
    {
     "name": "stdout",
     "output_type": "stream",
     "text": [
      "Fitting 3 folds for each of 24 candidates, totalling 72 fits\n"
     ]
    },
    {
     "name": "stderr",
     "output_type": "stream",
     "text": [
      "[Parallel(n_jobs=1)]: Done  72 out of  72 | elapsed:    0.7s finished\n"
     ]
    },
    {
     "data": {
      "text/plain": [
       "{'C': 0.0001, 'penalty': 'l1'}"
      ]
     },
     "execution_count": 28,
     "metadata": {},
     "output_type": "execute_result"
    }
   ],
   "source": [
    "logreg = LogisticRegression()\n",
    "C_values =  [0.0001, 0.001, 0.01, 0.1, 0.5 , 0.75, 1.0, 2.5, 5.0, 10.0, 100.0, 1000.0]\n",
    "penalties = ['l1','l2']\n",
    "\n",
    "gs = GridSearchCV(logreg, {'penalty': penalties, 'C': C_values}, verbose=True , scoring = 'f1_micro')\n",
    "gs.fit(X_train,y_train)\n",
    "gs.best_params_"
   ]
  },
  {
   "cell_type": "code",
   "execution_count": 29,
   "metadata": {
    "collapsed": true
   },
   "outputs": [],
   "source": [
    "from sklearn.linear_model import LogisticRegression\n",
    "from sklearn.metrics import roc_curve, auc\n",
    "from sklearn.cross_validation import train_test_split\n",
    "from sklearn.metrics import confusion_matrix, accuracy_score, precision_score, recall_score"
   ]
  },
  {
   "cell_type": "code",
   "execution_count": 30,
   "metadata": {
    "collapsed": false
   },
   "outputs": [
    {
     "name": "stdout",
     "output_type": "stream",
     "text": [
      "             precision    recall  f1-score   support\n",
      "\n",
      "        0.0       0.92      1.00      0.96      3354\n",
      "        1.0       0.00      0.00      0.00       274\n",
      "\n",
      "avg / total       0.85      0.92      0.89      3628\n",
      "\n"
     ]
    },
    {
     "name": "stderr",
     "output_type": "stream",
     "text": [
      "/Users/work/anaconda/lib/python2.7/site-packages/sklearn/metrics/classification.py:1113: UndefinedMetricWarning: Precision and F-score are ill-defined and being set to 0.0 in labels with no predicted samples.\n",
      "  'precision', 'predicted', average, warn_for)\n"
     ]
    }
   ],
   "source": [
    "# use this parameter to .fit, .predict, and print a classification_report for our X and Y\n",
    "gs_logreg = LogisticRegression(C=0.0001, penalty='l1', solver='liblinear')\n",
    "gs_logreg.fit(X_train, y_train)\n",
    "Y_ = gs_logreg.predict(X_train)\n",
    "print(classification_report(y_train, Y_))"
   ]
  },
  {
   "cell_type": "code",
   "execution_count": 33,
   "metadata": {
    "collapsed": true
   },
   "outputs": [],
   "source": [
    "# generic curve plotting function\n",
    "def auc_plotting_function(rate1, rate2, rate1_name, rate2_name, curve_name):\n",
    "    AUC = auc(rate1, rate2)\n",
    "    # Plot of a ROC curve for class 1 (has_cancer)\n",
    "    plt.figure(figsize=[5,3.5])\n",
    "    plt.plot(rate1, rate2, label=curve_name + ' (area = %0.2f)' % AUC, linewidth=4)\n",
    "    plt.plot([0, 1], [0, 1], 'k--', linewidth=4)\n",
    "    plt.xlim([0.0, 1.0])\n",
    "    plt.ylim([0.0, 1.05])\n",
    "    plt.xlabel(rate1_name, fontsize=18)\n",
    "    plt.ylabel(rate2_name, fontsize=18)\n",
    "    plt.title(curve_name + ' for house price > 200,000', fontsize=18)\n",
    "    plt.legend(loc=\"lower right\")\n",
    "    plt.show()\n",
    "\n",
    "# plot receiving operator characteristic curve\n",
    "def plot_roc(y_true, y_score):\n",
    "    fpr, tpr, _ = roc_curve(y_true, y_score)\n",
    "    auc_plotting_function(fpr, tpr, 'False Positive Rate', 'True Positive Rate', 'ROC')"
   ]
  },
  {
   "cell_type": "code",
   "execution_count": 34,
   "metadata": {
    "collapsed": false
   },
   "outputs": [
    {
     "data": {
      "text/plain": [
       "array([[3354,    0],\n",
       "       [ 274,    0]])"
      ]
     },
     "execution_count": 34,
     "metadata": {},
     "output_type": "execute_result"
    }
   ],
   "source": [
    "confusion_matrix(y_train, Y_)"
   ]
  },
  {
   "cell_type": "code",
   "execution_count": 35,
   "metadata": {
    "collapsed": false
   },
   "outputs": [
    {
     "data": {
      "image/png": "[encoded data removed]",
      "text/plain": [
       "<matplotlib.figure.Figure at 0x157702650>"
      ]
     },
     "metadata": {},
     "output_type": "display_data"
    },
    {
     "data": {
      "image/png": "[encoded data removed]",
      "text/plain": [
       "<matplotlib.figure.Figure at 0x15b1fb950>"
      ]
     },
     "metadata": {},
     "output_type": "display_data"
    }
   ],
   "source": [
    "Y_score = gs_logreg.decision_function(X_test)\n",
    "plot_roc(y_test, Y_score)"
   ]
  },
  {
   "cell_type": "code",
   "execution_count": 36,
   "metadata": {
    "collapsed": false
   },
   "outputs": [
    {
     "ename": "NameError",
     "evalue": "name 'KNeighborsClassifier' is not defined",
     "output_type": "error",
     "traceback": [
      "\u001b[0;31m---------------------------------------------------------------------------\u001b[0m",
      "\u001b[0;31mNameError\u001b[0m                                 Traceback (most recent call last)",
      "\u001b[0;32m<ipython-input-36-e321b4dc3086>\u001b[0m in \u001b[0;36m<module>\u001b[0;34m()\u001b[0m\n\u001b[0;32m----> 1\u001b[0;31m \u001b[0mknn\u001b[0m \u001b[0;34m=\u001b[0m \u001b[0mKNeighborsClassifier\u001b[0m\u001b[0;34m(\u001b[0m\u001b[0mn_neighbors\u001b[0m \u001b[0;34m=\u001b[0m \u001b[0;36m3\u001b[0m\u001b[0;34m)\u001b[0m\u001b[0;34m\u001b[0m\u001b[0m\n\u001b[0m\u001b[1;32m      2\u001b[0m \u001b[0mknn\u001b[0m\u001b[0;34m.\u001b[0m\u001b[0mfit\u001b[0m\u001b[0;34m(\u001b[0m\u001b[0mX_train\u001b[0m\u001b[0;34m,\u001b[0m \u001b[0my_train\u001b[0m\u001b[0;34m)\u001b[0m\u001b[0;34m\u001b[0m\u001b[0m\n\u001b[1;32m      3\u001b[0m \u001b[0mY_pred\u001b[0m \u001b[0;34m=\u001b[0m \u001b[0mknn\u001b[0m\u001b[0;34m.\u001b[0m\u001b[0mpredict\u001b[0m\u001b[0;34m(\u001b[0m\u001b[0mX_test\u001b[0m\u001b[0;34m)\u001b[0m\u001b[0;34m\u001b[0m\u001b[0m\n\u001b[1;32m      4\u001b[0m \u001b[0mknn\u001b[0m\u001b[0;34m.\u001b[0m\u001b[0mscore\u001b[0m\u001b[0;34m(\u001b[0m\u001b[0mX_train\u001b[0m\u001b[0;34m,\u001b[0m \u001b[0my_train\u001b[0m\u001b[0;34m)\u001b[0m\u001b[0;34m\u001b[0m\u001b[0m\n",
      "\u001b[0;31mNameError\u001b[0m: name 'KNeighborsClassifier' is not defined"
     ]
    }
   ],
   "source": [
    "knn = KNeighborsClassifier(n_neighbors = 3)\n",
    "knn.fit(X_train, y_train)\n",
    "Y_pred = knn.predict(X_test)\n",
    "knn.score(X_train, y_train)"
   ]
  },
  {
   "cell_type": "code",
   "execution_count": null,
   "metadata": {
    "collapsed": true
   },
   "outputs": [],
   "source": []
  }
 ],
 "metadata": {
  "anaconda-cloud": {},
  "kernelspec": {
   "display_name": "Python [conda root]",
   "language": "python",
   "name": "conda-root-py"
  }
 },
 "nbformat": 4,
 "nbformat_minor": 1
}
